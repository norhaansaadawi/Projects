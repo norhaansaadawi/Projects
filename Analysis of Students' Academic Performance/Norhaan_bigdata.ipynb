{
  "nbformat": 4,
  "nbformat_minor": 0,
  "metadata": {
    "colab": {
      "provenance": []
    },
    "kernelspec": {
      "name": "python3",
      "display_name": "Python 3"
    },
    "language_info": {
      "name": "python"
    }
  },
  "cells": [
    {
      "cell_type": "code",
      "execution_count": 2,
      "metadata": {
        "colab": {
          "base_uri": "https://localhost:8080/"
        },
        "id": "6izp0vC_W2o-",
        "outputId": "a441d245-48a5-4273-bfb4-c0d6dd6daf33",
        "collapsed": true
      },
      "outputs": [
        {
          "output_type": "stream",
          "name": "stdout",
          "text": [
            "Requirement already satisfied: pyspark in /usr/local/lib/python3.11/dist-packages (3.5.5)\n",
            "Requirement already satisfied: py4j==0.10.9.7 in /usr/local/lib/python3.11/dist-packages (from pyspark) (0.10.9.7)\n"
          ]
        }
      ],
      "source": [
        "pip install pyspark\n"
      ]
    },
    {
      "cell_type": "code",
      "source": [
        "pip install findspark\n"
      ],
      "metadata": {
        "colab": {
          "base_uri": "https://localhost:8080/"
        },
        "id": "ile0h--xU36i",
        "outputId": "a6c9c486-8e9e-4613-a8ab-05cda12fc53c",
        "collapsed": true
      },
      "execution_count": 3,
      "outputs": [
        {
          "output_type": "stream",
          "name": "stdout",
          "text": [
            "Collecting findspark\n",
            "  Downloading findspark-2.0.1-py2.py3-none-any.whl.metadata (352 bytes)\n",
            "Downloading findspark-2.0.1-py2.py3-none-any.whl (4.4 kB)\n",
            "Installing collected packages: findspark\n",
            "Successfully installed findspark-2.0.1\n"
          ]
        }
      ]
    },
    {
      "cell_type": "code",
      "source": [
        "import findspark\n",
        "findspark.init()"
      ],
      "metadata": {
        "id": "9BL75aRBVT3j"
      },
      "execution_count": 4,
      "outputs": []
    },
    {
      "cell_type": "code",
      "source": [
        "from pyspark.sql import SparkSession\n",
        "from pyspark.ml.feature import VectorAssembler\n",
        "from pyspark.ml.classification import LogisticRegression"
      ],
      "metadata": {
        "id": "dqbfgElPXRui"
      },
      "execution_count": 3,
      "outputs": []
    },
    {
      "cell_type": "code",
      "source": [
        "spark = SparkSession.builder.appName(\"student performance\").getOrCreate()"
      ],
      "metadata": {
        "id": "Ck8OaVPUXdmb"
      },
      "execution_count": 4,
      "outputs": []
    },
    {
      "cell_type": "code",
      "source": [
        "\n",
        "dataset = spark.read.csv(\"/content/Student_performance_data _.csv\", inferSchema = True, header = True)\n",
        "print('There are ',len(dataset.columns),'columns in this dataset')\n",
        "print('There are ',dataset.count(), 'rows in this dataset')\n"
      ],
      "metadata": {
        "colab": {
          "base_uri": "https://localhost:8080/",
          "height": 332
        },
        "id": "lKjXk_-nXl0E",
        "outputId": "a236df07-2061-40e3-d675-409fb4b9cb6d",
        "collapsed": true
      },
      "execution_count": 6,
      "outputs": [
        {
          "output_type": "stream",
          "name": "stdout",
          "text": [
            "There are  15 columns in this dataset\n",
            "There are  2392 rows in this dataset\n"
          ]
        },
        {
          "output_type": "error",
          "ename": "AttributeError",
          "evalue": "'DataFrame' object has no attribute 'isna'",
          "traceback": [
            "\u001b[0;31m---------------------------------------------------------------------------\u001b[0m",
            "\u001b[0;31mAttributeError\u001b[0m                            Traceback (most recent call last)",
            "\u001b[0;32m<ipython-input-6-352fab59fb92>\u001b[0m in \u001b[0;36m<cell line: 0>\u001b[0;34m()\u001b[0m\n\u001b[1;32m      2\u001b[0m \u001b[0mprint\u001b[0m\u001b[0;34m(\u001b[0m\u001b[0;34m'There are '\u001b[0m\u001b[0;34m,\u001b[0m\u001b[0mlen\u001b[0m\u001b[0;34m(\u001b[0m\u001b[0mdataset\u001b[0m\u001b[0;34m.\u001b[0m\u001b[0mcolumns\u001b[0m\u001b[0;34m)\u001b[0m\u001b[0;34m,\u001b[0m\u001b[0;34m'columns in this dataset'\u001b[0m\u001b[0;34m)\u001b[0m\u001b[0;34m\u001b[0m\u001b[0;34m\u001b[0m\u001b[0m\n\u001b[1;32m      3\u001b[0m \u001b[0mprint\u001b[0m\u001b[0;34m(\u001b[0m\u001b[0;34m'There are '\u001b[0m\u001b[0;34m,\u001b[0m\u001b[0mdataset\u001b[0m\u001b[0;34m.\u001b[0m\u001b[0mcount\u001b[0m\u001b[0;34m(\u001b[0m\u001b[0;34m)\u001b[0m\u001b[0;34m,\u001b[0m \u001b[0;34m'rows in this dataset'\u001b[0m\u001b[0;34m)\u001b[0m\u001b[0;34m\u001b[0m\u001b[0;34m\u001b[0m\u001b[0m\n\u001b[0;32m----> 4\u001b[0;31m \u001b[0mprint\u001b[0m\u001b[0;34m(\u001b[0m\u001b[0mdataset\u001b[0m\u001b[0;34m.\u001b[0m\u001b[0misna\u001b[0m\u001b[0;34m(\u001b[0m\u001b[0;34m)\u001b[0m\u001b[0;34m.\u001b[0m\u001b[0msum\u001b[0m\u001b[0;34m(\u001b[0m\u001b[0;34m)\u001b[0m\u001b[0;34m)\u001b[0m\u001b[0;34m\u001b[0m\u001b[0;34m\u001b[0m\u001b[0m\n\u001b[0m",
            "\u001b[0;32m/usr/local/lib/python3.11/dist-packages/pyspark/sql/dataframe.py\u001b[0m in \u001b[0;36m__getattr__\u001b[0;34m(self, name)\u001b[0m\n\u001b[1;32m   3127\u001b[0m         \"\"\"\n\u001b[1;32m   3128\u001b[0m         \u001b[0;32mif\u001b[0m \u001b[0mname\u001b[0m \u001b[0;32mnot\u001b[0m \u001b[0;32min\u001b[0m \u001b[0mself\u001b[0m\u001b[0;34m.\u001b[0m\u001b[0mcolumns\u001b[0m\u001b[0;34m:\u001b[0m\u001b[0;34m\u001b[0m\u001b[0;34m\u001b[0m\u001b[0m\n\u001b[0;32m-> 3129\u001b[0;31m             raise AttributeError(\n\u001b[0m\u001b[1;32m   3130\u001b[0m                 \u001b[0;34m\"'%s' object has no attribute '%s'\"\u001b[0m \u001b[0;34m%\u001b[0m \u001b[0;34m(\u001b[0m\u001b[0mself\u001b[0m\u001b[0;34m.\u001b[0m\u001b[0m__class__\u001b[0m\u001b[0;34m.\u001b[0m\u001b[0m__name__\u001b[0m\u001b[0;34m,\u001b[0m \u001b[0mname\u001b[0m\u001b[0;34m)\u001b[0m\u001b[0;34m\u001b[0m\u001b[0;34m\u001b[0m\u001b[0m\n\u001b[1;32m   3131\u001b[0m             )\n",
            "\u001b[0;31mAttributeError\u001b[0m: 'DataFrame' object has no attribute 'isna'"
          ]
        }
      ]
    },
    {
      "cell_type": "code",
      "source": [
        "dataset.show()\n",
        "# dataset previously cleaned before using so this step is skipped, straight to analysis"
      ],
      "metadata": {
        "colab": {
          "base_uri": "https://localhost:8080/"
        },
        "id": "1hvFJxGPYhfN",
        "outputId": "4d72691b-6923-46ad-fff8-aef5c061f6bd",
        "collapsed": true
      },
      "execution_count": null,
      "outputs": [
        {
          "output_type": "stream",
          "name": "stdout",
          "text": [
            "+---------+---+------+---------+-----------------+----------------+--------+--------+---------------+---------------+------+-----+------------+-----------------+----------+\n",
            "|StudentID|Age|Gender|Ethnicity|ParentalEducation| StudyTimeWeekly|Absences|Tutoring|ParentalSupport|Extracurricular|Sports|Music|Volunteering|              GPA|GradeClass|\n",
            "+---------+---+------+---------+-----------------+----------------+--------+--------+---------------+---------------+------+-----+------------+-----------------+----------+\n",
            "|     1001| 17|     1|        0|                2|19.8337228078547|       7|       1|              2|              0|     0|    1|           0| 2.92919559166768|         2|\n",
            "|     1002| 18|     0|        0|                1|15.4087560558467|       0|       0|              1|              0|     0|    0|           0| 3.04291483343638|         1|\n",
            "|     1003| 15|     0|        2|                3|4.21056976881226|      26|       0|              2|              0|     0|    0|           0|0.112602254466182|         4|\n",
            "|     1004| 17|     1|        0|                3|10.0288294739582|      14|       0|              3|              1|     0|    0|           0| 2.05421813970295|         3|\n",
            "|     1005| 17|     1|        0|                2|4.67249527297133|      17|       1|              3|              0|     0|    0|           0| 1.28806118179539|         4|\n",
            "|     1006| 18|     0|        0|                1|8.19121854525019|       0|       0|              1|              1|     0|    0|           0| 3.08418361448639|         1|\n",
            "|     1007| 15|     0|        1|                1|15.6016804746993|      10|       0|              3|              0|     1|    0|           0| 2.74823741489158|         2|\n",
            "|     1008| 15|     1|        1|                4|15.4244963058081|      22|       1|              1|              1|     0|    0|           0| 1.36014271231646|         4|\n",
            "|     1009| 17|     0|        0|                0| 4.5620075580477|       1|       0|              2|              0|     1|    0|           1| 2.89681918951357|         2|\n",
            "|     1010| 16|     1|        0|                1|18.4444663630972|       0|       0|              3|              1|     0|    0|           0| 3.57347421032977|         0|\n",
            "|     1011| 17|     0|        0|                1|11.8513636552965|      11|       0|              1|              0|     0|    0|           0| 2.14717162501851|         3|\n",
            "|     1012| 17|     0|        0|                1|7.59848581924029|      15|       0|              2|              0|     0|    0|           1| 1.55959451904028|         4|\n",
            "|     1013| 17|     0|        1|                1|10.0387116156172|      21|       0|              3|              1|     0|    0|           0| 1.52007781487481|         4|\n",
            "|     1014| 17|     0|        1|                2|12.1014250687549|      21|       0|              4|              0|     1|    0|           0| 1.75158095833408|         4|\n",
            "|     1015| 18|     1|        0|                1|11.1978106369157|       9|       1|              2|              0|     0|    0|           0|  2.3967881171248|         3|\n",
            "|     1016| 15|     0|        0|                2|9.72810071072356|      17|       1|              0|              0|     1|    0|           0| 1.34152071653467|         4|\n",
            "|     1017| 18|     0|        3|                1| 10.098656081788|      14|       0|              2|              1|     1|    0|           0| 2.23217527771598|         3|\n",
            "|     1018| 18|     1|        0|                0|3.52823820855772|      16|       1|              2|              0|     0|    0|           0| 1.38440417569403|         4|\n",
            "|     1019| 18|     0|        1|                3|16.2546580860936|      29|       0|              2|              1|     0|    0|           1| 0.46955332337987|         4|\n",
            "|     1020| 17|     0|        0|                1|10.8352063988203|       9|       0|              2|              0|     0|    1|           0|  2.3957840945307|         3|\n",
            "+---------+---+------+---------+-----------------+----------------+--------+--------+---------------+---------------+------+-----+------------+-----------------+----------+\n",
            "only showing top 20 rows\n",
            "\n"
          ]
        }
      ]
    },
    {
      "cell_type": "code",
      "source": [
        "assembler = VectorAssembler(inputCols = ['Age', 'Gender', 'Ethnicity', 'ParentalEducation', 'StudyTimeWeekly', 'Absences', 'Tutoring', 'ParentalSupport', 'Extracurricular','Sports','Music','Volunteering'], outputCol='features')\n",
        "output = assembler.transform(dataset)"
      ],
      "metadata": {
        "id": "s4OBbIobo2-T"
      },
      "execution_count": null,
      "outputs": []
    },
    {
      "cell_type": "code",
      "source": [
        "finalised_data = output.select('features', 'GradeClass')\n",
        "finalised_data.show()"
      ],
      "metadata": {
        "colab": {
          "base_uri": "https://localhost:8080/"
        },
        "id": "yPSzqx6cplmb",
        "outputId": "efdfa7c6-af9b-4248-a9be-4a69d9a4b299",
        "collapsed": true
      },
      "execution_count": null,
      "outputs": [
        {
          "output_type": "stream",
          "name": "stdout",
          "text": [
            "+--------------------+----------+\n",
            "|            features|GradeClass|\n",
            "+--------------------+----------+\n",
            "|[17.0,1.0,0.0,2.0...|         2|\n",
            "|(12,[0,3,4,7],[18...|         1|\n",
            "|(12,[0,2,3,4,5,7]...|         4|\n",
            "|[17.0,1.0,0.0,3.0...|         3|\n",
            "|[17.0,1.0,0.0,2.0...|         4|\n",
            "|(12,[0,3,4,7,8],[...|         1|\n",
            "|[15.0,0.0,1.0,1.0...|         2|\n",
            "|[15.0,1.0,1.0,4.0...|         4|\n",
            "|(12,[0,4,5,7,9,11...|         2|\n",
            "|(12,[0,1,3,4,7,8]...|         0|\n",
            "|(12,[0,3,4,5,7],[...|         3|\n",
            "|(12,[0,3,4,5,7,11...|         4|\n",
            "|[17.0,0.0,1.0,1.0...|         4|\n",
            "|[17.0,0.0,1.0,2.0...|         4|\n",
            "|[18.0,1.0,0.0,1.0...|         3|\n",
            "|(12,[0,3,4,5,6,9]...|         4|\n",
            "|[18.0,0.0,3.0,1.0...|         3|\n",
            "|(12,[0,1,4,5,6,7]...|         4|\n",
            "|[18.0,0.0,1.0,3.0...|         4|\n",
            "|(12,[0,3,4,5,7,10...|         3|\n",
            "+--------------------+----------+\n",
            "only showing top 20 rows\n",
            "\n"
          ]
        }
      ]
    },
    {
      "cell_type": "code",
      "source": [
        "train, test = finalised_data.randomSplit([0.8, 0.2])"
      ],
      "metadata": {
        "id": "9MwK_Pjwp8oP"
      },
      "execution_count": null,
      "outputs": []
    },
    {
      "cell_type": "code",
      "source": [
        "log_reg = LogisticRegression(featuresCol = \"features\", labelCol=\"GradeClass\")\n",
        "log_regmodel = log_reg.fit(train)\n",
        "predictions = log_regmodel.transform(test)"
      ],
      "metadata": {
        "id": "IhIVGeKwqBV5"
      },
      "execution_count": null,
      "outputs": []
    },
    {
      "cell_type": "code",
      "source": [
        "from pyspark.ml.evaluation import MulticlassClassificationEvaluator\n",
        "multi_eval = MulticlassClassificationEvaluator(labelCol=\"GradeClass\", predictionCol=\"prediction\")\n",
        "accuracy = multi_eval.evaluate(predictions, {multi_eval.metricName: \"accuracy\"})\n",
        "precision = multi_eval.evaluate(predictions, {multi_eval.metricName: \"weightedPrecision\"})\n",
        "recall = multi_eval.evaluate(predictions, {multi_eval.metricName: \"weightedRecall\"})\n",
        "f1 = multi_eval.evaluate(predictions, {multi_eval.metricName: \"f1\"})"
      ],
      "metadata": {
        "id": "7wLcsDMctDOc"
      },
      "execution_count": null,
      "outputs": []
    },
    {
      "cell_type": "code",
      "source": [
        "print(f\"Accuracy: {accuracy:.4f}\")\n",
        "print(f\"Precision: {precision:.4f}\")\n",
        "print(f\"Recall: {recall:.4f}\")\n",
        "print(f\"F1: {f1:.4f}\")\n"
      ],
      "metadata": {
        "colab": {
          "base_uri": "https://localhost:8080/",
          "height": 367
        },
        "id": "tqsvvr5ptvKG",
        "outputId": "4e7da06d-39ae-4592-956d-44da97f5a949",
        "collapsed": true
      },
      "execution_count": null,
      "outputs": [
        {
          "output_type": "stream",
          "name": "stdout",
          "text": [
            "Accuracy: 0.7677\n",
            "Precision: 0.7471\n",
            "Recall: 0.7677\n",
            "F1: 0.7500\n"
          ]
        },
        {
          "output_type": "error",
          "ename": "AttributeError",
          "evalue": "'DataFrame' object has no attribute 'rootMeanSquaredError'",
          "traceback": [
            "\u001b[0;31m---------------------------------------------------------------------------\u001b[0m",
            "\u001b[0;31mAttributeError\u001b[0m                            Traceback (most recent call last)",
            "\u001b[0;32m<ipython-input-15-25b431761481>\u001b[0m in \u001b[0;36m<cell line: 5>\u001b[0;34m()\u001b[0m\n\u001b[1;32m      3\u001b[0m \u001b[0mprint\u001b[0m\u001b[0;34m(\u001b[0m\u001b[0;34mf\"Recall: {recall:.4f}\"\u001b[0m\u001b[0;34m)\u001b[0m\u001b[0;34m\u001b[0m\u001b[0;34m\u001b[0m\u001b[0m\n\u001b[1;32m      4\u001b[0m \u001b[0mprint\u001b[0m\u001b[0;34m(\u001b[0m\u001b[0;34mf\"F1: {f1:.4f}\"\u001b[0m\u001b[0;34m)\u001b[0m\u001b[0;34m\u001b[0m\u001b[0;34m\u001b[0m\u001b[0m\n\u001b[0;32m----> 5\u001b[0;31m \u001b[0mprint\u001b[0m\u001b[0;34m(\u001b[0m\u001b[0;34mf\"RMSE: {predictions.rootMeanSquaredError:.4f}\"\u001b[0m\u001b[0;34m)\u001b[0m\u001b[0;34m\u001b[0m\u001b[0;34m\u001b[0m\u001b[0m\n\u001b[0m",
            "\u001b[0;32m/usr/local/lib/python3.10/dist-packages/pyspark/sql/dataframe.py\u001b[0m in \u001b[0;36m__getattr__\u001b[0;34m(self, name)\u001b[0m\n\u001b[1;32m   3125\u001b[0m         \"\"\"\n\u001b[1;32m   3126\u001b[0m         \u001b[0;32mif\u001b[0m \u001b[0mname\u001b[0m \u001b[0;32mnot\u001b[0m \u001b[0;32min\u001b[0m \u001b[0mself\u001b[0m\u001b[0;34m.\u001b[0m\u001b[0mcolumns\u001b[0m\u001b[0;34m:\u001b[0m\u001b[0;34m\u001b[0m\u001b[0;34m\u001b[0m\u001b[0m\n\u001b[0;32m-> 3127\u001b[0;31m             raise AttributeError(\n\u001b[0m\u001b[1;32m   3128\u001b[0m                 \u001b[0;34m\"'%s' object has no attribute '%s'\"\u001b[0m \u001b[0;34m%\u001b[0m \u001b[0;34m(\u001b[0m\u001b[0mself\u001b[0m\u001b[0;34m.\u001b[0m\u001b[0m__class__\u001b[0m\u001b[0;34m.\u001b[0m\u001b[0m__name__\u001b[0m\u001b[0;34m,\u001b[0m \u001b[0mname\u001b[0m\u001b[0;34m)\u001b[0m\u001b[0;34m\u001b[0m\u001b[0;34m\u001b[0m\u001b[0m\n\u001b[1;32m   3129\u001b[0m             )\n",
            "\u001b[0;31mAttributeError\u001b[0m: 'DataFrame' object has no attribute 'rootMeanSquaredError'"
          ]
        }
      ]
    }
  ]
}